{
 "cells": [
  {
   "cell_type": "markdown",
   "id": "22804a84",
   "metadata": {},
   "source": [
    "# 小红的ABC ⭐⭐"
   ]
  },
  {
   "cell_type": "markdown",
   "id": "1ddcfd8f",
   "metadata": {},
   "source": [
    "- [题目链接](https://ac.nowcoder.com/acm/contest/11218/B?&headNav=acm)"
   ]
  },
  {
   "cell_type": "markdown",
   "id": "506f2aa7",
   "metadata": {},
   "source": [
    "## 题目描述"
   ]
  },
  {
   "cell_type": "markdown",
   "id": "0122c386",
   "metadata": {},
   "source": [
    "```\n",
    "小红拿到了一个只包含 'a' , 'b' , 'c' 三种字符的字符串。  \n",
    "小红想知道，这个字符串最短的、长度超过 1 的回文子串的长度是多少？  \n",
    "子串定义：字符串取一段连续的区间。例如\"abcca\"的子串有\"ab\"、\"bcca\"等，但\"aca\"则不是它的子串。  \n",
    "回文的定义：一个字符串正着读和倒着读都是相同的，那么定义它的回文的。  \n",
    "\n",
    "输入描述:\n",
    "一个只包含 'a' , 'b' , 'c' 三种字符的字符串。  \n",
    "数据范围：字符串长度不小于2，且不超过100  \n",
    "\n",
    "输出描述:\n",
    "如果不存在长度超过1的回文子串，则输出-1。  \n",
    "否则输出长度超过1的最短回文子串的长度。  \n",
    "\n",
    "示例1:\n",
    "输入:\n",
    "abcca\n",
    "\n",
    "输出:\n",
    "2\n",
    "\n",
    "说明:\n",
    "\"cc\"即为其最短回文子串。\n",
    "```"
   ]
  },
  {
   "cell_type": "markdown",
   "id": "2cba01cc",
   "metadata": {},
   "source": [
    "## 思路"
   ]
  },
  {
   "cell_type": "markdown",
   "id": "f39c732d",
   "metadata": {},
   "source": [
    "这道题目很容易想复杂，要注意，求的是最短回文子串，而且只有a,b,c三个字符。那么只可能是以下三种情况：\n",
    "1. `s[i] == s[i + 1]`: 比如aa, bb, cc，则输出为2\n",
    "2. `s[i] == s[i + 2]`: 比如aba, cac..，则输出为3\n",
    "3. 否则输出-1"
   ]
  },
  {
   "cell_type": "code",
   "execution_count": 1,
   "id": "5ee315d0",
   "metadata": {},
   "outputs": [
    {
     "data": {
      "text/plain": [
       "2"
      ]
     },
     "execution_count": 1,
     "metadata": {},
     "output_type": "execute_result"
    }
   ],
   "source": [
    "#  str 为输入的字符串\n",
    "\n",
    "str = \"abcca\"\n",
    "def abc(str):\n",
    "    res = -1\n",
    "    for i in range(len(str)):\n",
    "        if str[i] == str [i+1]:\n",
    "            return 2\n",
    "        elif str[i] == str [i+2]:\n",
    "            res = 3\n",
    "    return res\n",
    "abc(str)\n"
   ]
  },
  {
   "cell_type": "markdown",
   "id": "060f2420",
   "metadata": {},
   "source": [
    "# 优美字符串"
   ]
  },
  {
   "cell_type": "markdown",
   "id": "72ed94eb",
   "metadata": {},
   "source": [
    "- [牛客链接](https://ac.nowcoder.com/acm/contest/11217/D)"
   ]
  },
  {
   "cell_type": "markdown",
   "id": "982a34a7",
   "metadata": {},
   "source": [
    "## 题目描述 ⭐⭐"
   ]
  },
  {
   "cell_type": "markdown",
   "id": "e8c9ac4d",
   "metadata": {},
   "source": [
    "```\n",
    "DD给了dd一个由小写英文字母组成的字符串，但是dd觉得这个串太丑，dd觉得一个优美的字符串应该满足任意相邻字符都不相等，她想知道把给定字符串变成一个优美的字符串最少需要插入多少个字符，你只要告诉她，插入最少字符后的串的长度\n",
    "\n",
    "输入描述:\n",
    "第一行一个数T(1≤T≤10)\n",
    "接下来T行，每行一个有且仅有小写英文字母构成的字符串s(1≤|s|≤100000)\n",
    "\n",
    "输出描述:\n",
    "输出T行，每行一个数，表示美化后串的最短长度\n",
    "\n",
    "示例1:\n",
    "输入\n",
    "4\n",
    "a\n",
    "ab\n",
    "abbc\n",
    "aaabb\n",
    "\n",
    "输出\n",
    "1\n",
    "2\n",
    "5\n",
    "8\n",
    "\n",
    "说明：\n",
    "样例解释\n",
    "第一个第二个不用动\n",
    "第三个可以改成ababc\n",
    "第四个可以改成abababab\n",
    "```"
   ]
  },
  {
   "cell_type": "markdown",
   "id": "84aea50d",
   "metadata": {},
   "source": [
    "## 思路"
   ]
  },
  {
   "cell_type": "markdown",
   "id": "e1a45078",
   "metadata": {},
   "source": [
    "这道题目不难，遍历字符串，只要前一个字符和后一个字符相同，则意味着中间需要插入一个字符，处理好边界情况就可以了。"
   ]
  },
  {
   "cell_type": "code",
   "execution_count": null,
   "id": "f8436ff0",
   "metadata": {},
   "outputs": [],
   "source": [
    "# # T行\n",
    "\n",
    "# a = 4,\n",
    "#     a,\n",
    "#     ab,\n",
    "#     abbc,\n",
    "#     aaabb\n",
    "\n",
    "# for i in range(T):\n",
    "#     # 输出第i行"
   ]
  },
  {
   "cell_type": "markdown",
   "id": "d8b5eccc",
   "metadata": {},
   "source": [
    "# 翻转二进制 ⭐⭐"
   ]
  },
  {
   "cell_type": "markdown",
   "id": "71b6c1a5",
   "metadata": {},
   "source": [
    "## 题目描述"
   ]
  },
  {
   "cell_type": "markdown",
   "id": "de3a0c39",
   "metadata": {},
   "source": [
    "```\n",
    "在你的帮助下，小P虽然完成了练习题，但他却在文化课与竞赛的切换中晕头转向，陷入迷惘...….给定n个数，求他们的二进制表示翻转后的和。\n",
    "我们定义翻转为:将一个数二进制表示，再将其翻转，去掉前导零后读数\n",
    "\n",
    "输入描述：\n",
    "一个十进制整数\n",
    "\n",
    "输出描述：\n",
    "二进制翻转后，去掉前导零后对应的十进制整数\n",
    "\n",
    "示例：\n",
    "输入\n",
    "44\n",
    "\n",
    "输出\n",
    "33\n",
    "\n",
    "说明\n",
    "44二进制下101100，翻转后为001101，去掉前导零为1101，即13\n",
    "```"
   ]
  },
  {
   "cell_type": "markdown",
   "id": "97a3effa",
   "metadata": {},
   "source": [
    "## 思路"
   ]
  },
  {
   "cell_type": "markdown",
   "id": "d129ede4",
   "metadata": {},
   "source": [
    "如果能够熟练掌握python基础的内置函数，那么这道题就很简单了。"
   ]
  },
  {
   "cell_type": "markdown",
   "id": "5cefc0d1",
   "metadata": {},
   "source": [
    "# 游戏机本当下手 ⭐⭐⭐⭐"
   ]
  },
  {
   "cell_type": "markdown",
   "id": "adb6b9a1",
   "metadata": {},
   "source": [
    "- [牛客链接](https://ac.nowcoder.com/acm/contest/8755/E)\n",
    "- [答案链接](https://ac.nowcoder.com/acm/contest/8755#submit/%7B%22problemIdFilter%22%3A213390%2C%22statusTypeFilter%22%3A5%7D)"
   ]
  },
  {
   "cell_type": "markdown",
   "id": "f4825ec5",
   "metadata": {},
   "source": [
    "## 题目描述"
   ]
  },
  {
   "cell_type": "markdown",
   "id": "13120518",
   "metadata": {},
   "source": [
    "```\n",
    "藤原妹红拿到了一个游戏机，游戏机上有'1'和'0'两个按钮。  \n",
    "妹红发现，只要按住某个按钮不放，屏幕上就能一直不断打印那个字符。  \n",
    "比如对于\"11111111100000000001111111111\"，只需要按住1、再按住0、再按住1就可以打印出来了。这样妹红最少只需要按3次按钮就可以打印这个字符串。\n",
    "现在妹红拿到了一个01字符串，她想截取其中的一个子串，这个子串最少按 k次按钮就可以打印出来。  \n",
    "（01字符串指仅由字符'0'和字符'1'组成的字符串）  \n",
    "注意这里“最少按 k 次”的含义是：按 k 次可以打印出这个子串，但按 k−1 次就一定打印不出这个子串。  \n",
    "妹红想知道，一共有多少子串符合要求？  \n",
    "注：一个字符串的子串为该字符串删掉前面和后面部分字符（也可以不删）生成的字符串。  \n",
    "两个子串只要在字符串中位置不同则认为是不同的（哪怕字符串相等）。  \n",
    "\n",
    "输入描述：\n",
    "第一行两个正整数 n 和 k ，分别代表字符串的长度、和妹红按下按钮的次数。  \n",
    "第二行为一个仅由字符“0”和“1”组成的字符串。  \n",
    "\n",
    "输出描述：\n",
    "妹红至少按 k 次就能按出来的子串的数量。\n",
    "\n",
    "示例1：\n",
    "输入：\n",
    "6 2\n",
    "001100\n",
    "\n",
    "输出：\n",
    "8\n",
    "\n",
    "说明：\n",
    "注意到k=2，因此要寻找最少按2次就能打印的子串。\n",
    "s[0,2]=\"001\"，妹红最少按2次就能按出来，先按0再按1。\n",
    "s[0,3]=\"0011\"，妹红最少按2次就能按出来，先按0再按1。\n",
    "s[1,2]=\"01\"，妹红最少按2次就能按出来，先按0再按1。\n",
    "s[0,3]=\"011\"，妹红最少按2次就能按出来，先按0再按1。\n",
    "s[2,4]=\"110\"，妹红最少按2次就能按出来，先按1再按0。\n",
    "s[2,5]=\"1100\"，妹红最少按2次就能按出来，先按1再按0。\n",
    "s[3,4]=\"10\"，妹红最少按2次就能按出来，先按1再按0。\n",
    "s[3,5]=\"100\"，妹红最少按2次就能按出来，先按1再按0。\n",
    "共有8个子串符合要求。\n",
    "\n",
    "示例2：\n",
    "输入\n",
    "3 1\n",
    "110\n",
    "\n",
    "输出\n",
    "4\n",
    "\n",
    "说明\n",
    "注意到k=1，因此要寻找按1次就能打印的子串。\n",
    "s[0,0]=\"1\"，妹红按住1就可以打印出来，只按了1次按钮\n",
    "s[0,1]=\"11\"，妹红按住1就可以打印出来，只按了1次按钮\n",
    "s[1,1]=\"1\"，妹红按住1就可以打印出来，只按了1次按钮\n",
    "s[2,2]=\"0\"，妹红按住0就可以打印出来，只按了1次按钮\n",
    "共有4个子串符合要求。\n",
    "```"
   ]
  },
  {
   "cell_type": "markdown",
   "id": "4ee92084",
   "metadata": {},
   "source": [
    "## 思路"
   ]
  },
  {
   "cell_type": "markdown",
   "id": "634a4f26",
   "metadata": {},
   "source": [
    "这道题目难度较大，主要理清思路比较困难，需要分两种情况考虑。假设有字串`0011000`，可以把他分为3段：\n",
    "1. 按1次可以获取的字串，每一段的子串数目都是1+2+3...，则总的子串数目为`(1+2)+(1+2)+(1+2+3)`，一共12次。\n",
    "2. 如果次数大于1，按几次则意味着要跨过几段，比如按2次，则第1段需要按一次，第2段需要按1次，或者第2段按一次，第三段按一次，而每按一次，产生的字串数量为第一次所在段的字符个数 * 第二次所在段的字符个数，那么`0011000`的子串总数目为`(2*2)+(2*3)`，一共10次。"
   ]
  },
  {
   "cell_type": "markdown",
   "id": "6a01cf56",
   "metadata": {},
   "source": [
    "# NIT的签到题 ⭐⭐"
   ]
  },
  {
   "cell_type": "markdown",
   "id": "2f290891",
   "metadata": {},
   "source": [
    "- [题目链接](https://ac.nowcoder.com/acm/contest/11191/A)\n",
    "- [答案链接](https://ac.nowcoder.com/acm/contest/11191#submit/%22problemIdFilter%22%3A222998%2C%22statusTypeFilter%22%3A5%2C%22languageCategoryFilter%22%3A%22107%22)"
   ]
  },
  {
   "cell_type": "markdown",
   "id": "60fc6ca7",
   "metadata": {},
   "source": [
    "## 题目描述"
   ]
  },
  {
   "cell_type": "markdown",
   "id": "0d449442",
   "metadata": {},
   "source": [
    "```\n",
    "NIT曾经做过一道签到题：输入 a 和 b ，输出任意一个 a 的倍数 c ，并且保证 b 是 c 的倍数 (a<c<b)。  \n",
    "以NIT现在国家队的实力，做这样的题实在是太侮辱他的智商了，于是他思考着加强这道题目。\n",
    "输入四个数 a,b,c,d，请你输出一个正整数 x ，满足 x 是 a 的倍数且 x 是 c 的倍数，另外满足 b 是 x 的倍数且 d 是 x 的倍数。 (a<x<b,c<x<d)\n",
    "\n",
    "输入描述:\n",
    "四个正整数 a,b,c,d\n",
    "\n",
    "输出描述:\n",
    "如果存在合法解，请输出任意一个合法解。\n",
    "否则输出 -1。\n",
    "\n",
    "示例1\n",
    "输入\n",
    "2 60 3 96\n",
    "\n",
    "输出\n",
    "12\n",
    "\n",
    "说明\n",
    "输出6也是可行解。\n",
    "\n",
    "示例2\n",
    "输入\n",
    "2 60 3 81\n",
    "\n",
    "输出\n",
    "-1\n",
    "```"
   ]
  },
  {
   "cell_type": "markdown",
   "id": "d99152b3",
   "metadata": {},
   "source": [
    "## 思路"
   ]
  },
  {
   "cell_type": "markdown",
   "id": "4a6a6f4b",
   "metadata": {},
   "source": [
    "这道题目也不难，关键就在于要先求出`a`,`c`的最小公倍数。另外，题目没有说清楚的是，这个倍数不能为1。"
   ]
  },
  {
   "cell_type": "markdown",
   "id": "ebfa4f01",
   "metadata": {},
   "source": [
    "# ranko的手表 ⭐⭐⭐"
   ]
  },
  {
   "cell_type": "markdown",
   "id": "a4f01974",
   "metadata": {},
   "source": [
    "- [牛客链接](https://www.nowcoder.com/practice/37275e85ae7c4453920eae6b9f7f45fc?tpId=308&tqId=1714944&ru=/practice/7b1c858a3e7a41ed8364178979eaae67&qru=/ta/algorithm-start/question-ranking&sourceUrl=/exam/oj?page=1&tab=%25E7%25AE%2597%25E6%25B3%2595%25E7%25AF%2587&topicId=308)"
   ]
  },
  {
   "cell_type": "markdown",
   "id": "dcfc18c5",
   "metadata": {},
   "source": [
    "## 题目描述"
   ]
  },
  {
   "cell_type": "markdown",
   "id": "acbd6212",
   "metadata": {},
   "source": [
    "```\n",
    "ranko 的手表坏了，正常应该显示 xx:xx 的形式（4 个数字），比如下午 1 点半应该显示 13:30 ，但现在经常会有一些数字有概率无法显示。  \n",
    "ranko 在  t1 时刻看了下时间，过了一段时间在 t2 时刻看了下时间。她想知道， t1 和 t2 这两个时刻之间相距的时间的最大值和最小值是多少？  \n",
    "保证 t1 在 t2 之前（且 t1 和 t2 不等）。t1 和 t2 在同一天的 00:00 到 23:59 之间。  \n",
    "\n",
    "输入描述：\n",
    "两行输入两个时间，为 xx:xx 的形式。其中 xxx 为数字或者字符 '?' ，问号代表这个数字没有显示。\n",
    "保证输入是合法的。\n",
    "\n",
    "输出描述：\n",
    "一行输出两个整数，分别代表 t1 和 t2 相距时间的最小值和最大值（单位分钟）。\n",
    "\n",
    "示例1\n",
    "输入：\n",
    "18:0?\n",
    "2?:1?\n",
    "\n",
    "输出：\n",
    "121 319\n",
    "\n",
    "说明：\n",
    "相距最小的时间为 18:09 到 20:10 ，相距121分钟。\n",
    "相距最大的时间为 18:00 到 23:19 ，相距319分钟。\n",
    "```"
   ]
  },
  {
   "cell_type": "markdown",
   "id": "deade37a",
   "metadata": {},
   "source": [
    "## 思路"
   ]
  },
  {
   "cell_type": "markdown",
   "id": "4d77a506",
   "metadata": {},
   "source": [
    "这道题没有什么套路，就是简单的枚举。从每天的00点开始到23:59，每次加1分钟，然后和t1， t2匹配，看是否能匹配上。然后用匹配出来的t2的最大值减去t1的最小值，得到相距时间的最大值。\n",
    "\n",
    "最小的相距时间不太好求，因为有效的t1和t2，在时间上有重叠。比较简单的做法就是暴力遍历。\n",
    "\n",
    "时间计算可以直接利用内置库，也可以转换成数值计算，我直接使用了内置的`datetime`，简单一点。"
   ]
  },
  {
   "cell_type": "markdown",
   "id": "02108936",
   "metadata": {},
   "source": [
    "# 小红取数 ⭐⭐⭐⭐"
   ]
  },
  {
   "cell_type": "markdown",
   "id": "d0004c4f",
   "metadata": {},
   "source": [
    "- [牛客链接](https://www.nowcoder.com/practice/6a7b2b6c9e3a4f56b1db9f8ca08d889b)"
   ]
  },
  {
   "cell_type": "markdown",
   "id": "6e0051fc",
   "metadata": {},
   "source": [
    "## 题目描述"
   ]
  },
  {
   "cell_type": "markdown",
   "id": "447114ef",
   "metadata": {},
   "source": [
    "```\n",
    "小红拿到了一个数组，她想取一些数使得取的数之和尽可能大，但要求这个和必须是 k 的倍数。你能帮帮她吗？\n",
    "\n",
    "输入描述：\n",
    "第一行输入两个正整数 n 和 k\n",
    "第二行输入 n 个正整数 $a_{i}$\n",
    "\n",
    "输出描述：\n",
    "如果没有合法方案，输出 -1。否则输出最大的和。\n",
    "\n",
    "示例：\n",
    "输入：\n",
    "5 5\n",
    "4 8 2 9 1\n",
    "\n",
    "输出：\n",
    "20\n",
    "```"
   ]
  },
  {
   "cell_type": "markdown",
   "id": "4caf178a",
   "metadata": {},
   "source": [
    "## 思路"
   ]
  },
  {
   "cell_type": "markdown",
   "id": "9add36a6",
   "metadata": {},
   "source": [
    "这道题可能都不知道从哪里下手，思路挺难，它本质上用到了动态规划的一些思路，但是和传统的动规题又有区别。\n",
    "\n",
    "我们可以构筑一个长度为k的列表，保存余数为0到k-1的和的最大值，然后遍历原始数组，不断更新这个列表，假设原数组为`[4, 8, 2, 9, 1]`，k为5，则我们构筑一个临时列表`[0, 0, 0, 0, 0]`，第1个值为余数为0的最大和，第2个值为余数为1的最大和...\n",
    "\n",
    "然后开始遍历原数组，更新临时列表：  \n",
    "1. 第一轮：4, 临时列表：`[0, 0, 0, 0, 4]`  \n",
    "2. 第二轮：8，临时列表：`[0, 0, 12, 8, 4]`, 4 + 8 = 12，与5的余数为2，另外0 + 8 = 8，余数为3\n",
    "3. ...\n",
    "\n",
    "最终临时列表的第1个值就是我们的结果。"
   ]
  },
  {
   "cell_type": "markdown",
   "id": "81883786",
   "metadata": {},
   "source": [
    "# 加减 ⭐⭐⭐⭐⭐"
   ]
  },
  {
   "cell_type": "markdown",
   "id": "9d2d14fa",
   "metadata": {},
   "source": [
    "- [题目链接](https://ac.nowcoder.com/acm/contest/11214/I)\n",
    "- [答案链接](https://ac.nowcoder.com/acm/contest/11214#submit/%22problemIdFilter%22%3A224938%2C%22statusTypeFilter%22%3A5%2C%22languageCategoryFilter%22%3A%22107%22)"
   ]
  },
  {
   "cell_type": "markdown",
   "id": "7f4d43ed",
   "metadata": {},
   "source": [
    "## 题目描述"
   ]
  },
  {
   "cell_type": "markdown",
   "id": "5be12695",
   "metadata": {},
   "source": [
    "```\n",
    "小红拿到了一个长度为 n 的数组。她每次操作可以让某个数加 1 或者某个数减 1 。  \n",
    "小红最多能进行 k 次操作。她希望操作结束后，该数组出现次数最多的元素次数尽可能多。  \n",
    "你能求出这个最大的次数吗？ \n",
    "\n",
    "输入描述：\n",
    "第一行两个正整数 n 和 k\n",
    "第二行有 n 个正整数 $a_{i}$ \n",
    "\n",
    "输出描述：\n",
    "不超过 k 次操作之后，数组中可能出现最多次数元素的次数。\n",
    "\n",
    "示例：\n",
    "输入:\n",
    "5 3\n",
    "6 3 20 8 1\n",
    "\n",
    "输出:\n",
    "2\n",
    "\n",
    "说明:\n",
    "共 3 次操作如下：\n",
    "第一个数加一。\n",
    "第二个数加一。\n",
    "第四个数减一。\n",
    "数组变成了 7 4 20 7 1 ，共有 2 个相同的数： 7 。\n",
    "可以证明， 2 为最优解。另外，此上操作并不是唯一的操作。 \n",
    "```"
   ]
  },
  {
   "cell_type": "markdown",
   "id": "ad25dfa0",
   "metadata": {},
   "source": [
    "## 思路"
   ]
  },
  {
   "cell_type": "markdown",
   "id": "173b3636",
   "metadata": {},
   "source": [
    "这道题目说实话，考试时间内能做出来，要么是天赋异禀，要么就是考试前一天正好把答案背下来了。\n",
    "\n",
    "它用到了一个数学上的推论，就是一个有序数组，要移动所有元素使之相等，其中位数是最优解。\n",
    "- [通俗易懂的证明](https://leetcode.cn/problems/minimum-moves-to-equal-array-elements-ii/solution/by-fuxuemingzhu-13z3/)\n",
    "\n",
    "知道这个推论，我们可以这样思考，从2开始，依次取q个元素，判断q个元素是否能满足k次操作后相等，q的最大值即为答案。"
   ]
  },
  {
   "cell_type": "markdown",
   "id": "e32b093a",
   "metadata": {},
   "source": [
    "#  经此一役小红所向无敌 ⭐⭐"
   ]
  },
  {
   "cell_type": "markdown",
   "id": "9605eb1f",
   "metadata": {},
   "source": [
    "- [题目链接](https://ac.nowcoder.com/acm/contest/11214/A)\n",
    "- [牛客链接](https://ac.nowcoder.com/acm/contest/11214)"
   ]
  },
  {
   "cell_type": "markdown",
   "id": "c9104049",
   "metadata": {},
   "source": [
    "## 题目描述"
   ]
  },
  {
   "cell_type": "markdown",
   "id": "9541e0b0",
   "metadata": {},
   "source": [
    "```\n",
    "经过重重困难，对立和光终于来到魔王城，和最终的大魔王--小红进行决战。  \n",
    "已知小红的血量是10^999999999。  \n",
    "对立的攻击是a，血量是h。  \n",
    "光的攻击力是b，血量是k。  \n",
    "没回合光先对小红发起攻击，然后对立对小红发起攻击，然后小红展开幻术，令光和对立同时互相攻击。  \n",
    "每次攻击后，受击者的血量会减掉攻击者的攻击力。  \n",
    "当光和对立其中一人死亡后，另一人会悲痛欲绝，对小红发出自己攻击力*10的伤害的大招，然后自杀。（若两人同时死亡，则两人都无法发出大招）  \n",
    "小红想知道，弱小的光和对立，他们能对自己造成多少点伤害？ \n",
    "\n",
    "\n",
    "输入描述：\n",
    "\n",
    "一行4个正整数a, h, b, k, 用空格隔开。\n",
    "\n",
    "1<= a,b,h,k<= 10^9\n",
    "\n",
    "输出描述：\n",
    "\n",
    "一个正整数，表示小红受到的伤害。\n",
    "\n",
    "示例：\n",
    "输入：\n",
    "2 3 1 3\n",
    "\n",
    "输出：\n",
    "26\n",
    "\n",
    "说明：\n",
    "第一回合，小红收到了对立和光的攻击，并让他们互相攻击。第一回合结束时，小红收到3点伤害，这时对立血量为2，光的血量为1。  \n",
    "第二回合，小红收到了对立和光的攻击，并让他们互相攻击。这时对立血量为1，光的血量为0死亡。对立放出大招后自杀，本回合小红共收到23点伤害。  \n",
    "小红受到的总伤害为3 + 23 = 26\n",
    "```"
   ]
  },
  {
   "cell_type": "markdown",
   "id": "21d427df",
   "metadata": {},
   "source": [
    "## 思路"
   ]
  },
  {
   "cell_type": "markdown",
   "id": "0e2f619c",
   "metadata": {},
   "source": [
    "这道题题干很长，把题目读完都挺费力气的。但实际上不难，甚至可以说比较简单。只要把回合数想清楚就行了，然后计算回合数稍微动点脑筋。"
   ]
  },
  {
   "cell_type": "markdown",
   "id": "8b53ea9a",
   "metadata": {},
   "source": [
    "# 解题过程\n",
    "写出回合函数，计算几个回合，哪个存活"
   ]
  },
  {
   "cell_type": "code",
   "execution_count": null,
   "id": "5d24458a",
   "metadata": {},
   "outputs": [],
   "source": [
    "# 对立的攻击是a，血量是h。  \n",
    "# 光的攻击力是b，血量是k。\n",
    "\n",
    "# 缺陷：容易超过递归次数，利用递归来做那个，容易犯错，小数据还行，大数据不行\n",
    "\n",
    "t = 1\n",
    "def round(a, h, b, k):\n",
    "    global t\n",
    "    # 计算回合\n",
    "    if h<=b&k<=a:\n",
    "        print(t, (a+b)*t)\n",
    "        return t, (a+b)*t\n",
    "    elif k<=a:\n",
    "        print(t, t*(a+b)+10*a)\n",
    "        return t, t*(a+b)+10*a \n",
    "    elif h<=b:\n",
    "        print(t, t*(a+b)+10*b)\n",
    "        return t, t*(a+b)+10*b\n",
    "    \n",
    "    h -= b\n",
    "    k -= a\n",
    "    t += 1\n",
    "    round(a, h, b, k)\n",
    "    \n",
    "round(2, 3, 1, 4)\n"
   ]
  },
  {
   "cell_type": "markdown",
   "id": "39c2c08a",
   "metadata": {},
   "source": [
    "# 小红的数组 ⭐⭐⭐⭐"
   ]
  },
  {
   "cell_type": "markdown",
   "id": "43d31622",
   "metadata": {},
   "source": [
    "- [题目链接](https://ac.nowcoder.com/acm/contest/11218/D)"
   ]
  },
  {
   "cell_type": "markdown",
   "id": "214f82a6",
   "metadata": {},
   "source": [
    "## 题目描述"
   ]
  },
  {
   "cell_type": "markdown",
   "id": "8e0b4e1d",
   "metadata": {},
   "source": [
    "```\n",
    "小红拿到了一个长度为 n 的数组，数组中的元素都是正整数。\n",
    "小红想让你回答以下三个问题，取两个数乘积大于 k 的方案数、取两个数乘积等于 k 的方案数、取两个数乘积小于 k 的方案数。\n",
    "注：两个数是不放回且同时取的。例如对于数组[1,2,3,4,5]而言，取[1,2]和[2,1]我们认为是同一种方案。\n",
    "但是，如果有两个数相等，那么取相等但位置不同的数不认为是同一种取法。例如对于数组[2,2,2,3]而言，有三种方案可以取到[2,2]。\n",
    "\n",
    "输入描述:\n",
    "第一行输入两个正整数 n 和 k ，用空格隔开。\n",
    "第二行输入 n 个用空格隔开的正整数 ai，用来表示数组。\n",
    "\n",
    "\n",
    "输出描述:\n",
    "输出三个整数，用空格隔开。分别代表取两个数乘积大于 k 的方案数、等于 k 的方案数、小于 k 的方案数。\n",
    "\n",
    "示例1\n",
    "输入：\n",
    "4 7\n",
    "1 3 4 2\n",
    "\n",
    "输出：\n",
    "2 0 4\n",
    "\n",
    "说明：\n",
    "大于7的取数方案：[3,4]和[4,2]。小于7的取数方案：[1,3]、[1,4]、[1,2]、[3,2]\n",
    "\n",
    "示例2\n",
    "输入\n",
    "5 9\n",
    "3 3 3 3 3\n",
    "\n",
    "输出\n",
    "0 10 0\n",
    "```"
   ]
  },
  {
   "cell_type": "markdown",
   "id": "cc7e3f9f",
   "metadata": {},
   "source": [
    "## 思路"
   ]
  },
  {
   "cell_type": "markdown",
   "id": "77c1f868",
   "metadata": {},
   "source": [
    "这道题最简单的思路就是暴力穷举，利用递归回溯或者内置`itertools`的`combinations`方法，把所有2个数的组合找出来。然后把他们的积和k比较即可，但是由于题目有时间限制，这样做的话超时，通过率只有61%左右。所以得换个思路。\n",
    "\n",
    "还记得学习双指针时候的乘船问题吗？\n",
    "\n",
    "这里我们可以先对数组排序，然后利用左右指针分别把$a * b < k$和$a * b > k$的个数求出来。比如数组为$[1, 2, 3, 4, 5]$，k值为11，我们先求$a * b < 11$有多少对，我画了个图，帮助你理解："
   ]
  },
  {
   "attachments": {
    "%E5%9B%BE%E7%89%87.png": {
     "image/png": "[encoded data removed]"
    }
   },
   "cell_type": "markdown",
   "id": "53b46dbe",
   "metadata": {},
   "source": [
    "![%E5%9B%BE%E7%89%87.png](attachment:%E5%9B%BE%E7%89%87.png)"
   ]
  },
  {
   "cell_type": "markdown",
   "id": "f748bd7a",
   "metadata": {},
   "source": [
    "则满足$a * b < 11$的一共有$4 + 3 = 7$对。同样的道理，我们可以把$a * b > 11$的对数计算出来，最后用总的对数减去小于和大于的对数，就是相等的对数。另外组合公式为$\\dfrac{n!}{r!(n-r)!}$，这道题$r$等于2，则为$\\dfrac{n*(n-1)}{2}$，\n",
    "\n",
    "有思路了，就开始撸代码吧。"
   ]
  },
  {
   "cell_type": "markdown",
   "id": "a2c12a19",
   "metadata": {},
   "source": [
    "# 不相邻数 ⭐⭐"
   ]
  },
  {
   "cell_type": "markdown",
   "id": "724faaf7",
   "metadata": {},
   "source": [
    "- [题目链接](https://www.nowcoder.com/practice/a2be806a0e5747a088670f5dc62cfa1e?tpId=230&tqId=1832016&ru=%2Fpractice%2Fa2be806a0e5747a088670f5dc62cfa1e&qru=%2Fta%2Fdynamic-programming%2Fquestion-ranking&sourceUrl=)"
   ]
  },
  {
   "cell_type": "markdown",
   "id": "16c6d4ee",
   "metadata": {},
   "source": [
    "## 题目描述"
   ]
  },
  {
   "cell_type": "markdown",
   "id": "b791fb0b",
   "metadata": {},
   "source": [
    "```\n",
    "小红拿到了一个数组。她想取一些不相邻的数，使得取出来的数之和尽可能大。你能帮帮她吗？\n",
    "\n",
    "输入描述：\n",
    "第一行输入一个正整数 n ，代表数组长度\n",
    "第二行输入n个正整数 ai ，代表整个数组。\n",
    "\n",
    "输出描述：\n",
    "不相邻的数的最大和。\n",
    "\n",
    "示例1\n",
    "输入：\n",
    "4\n",
    "2 6 4 1\n",
    "\n",
    "输出：\n",
    "7\n",
    "\n",
    "说明：\n",
    "取 6 和 1 即可\n",
    "```"
   ]
  },
  {
   "cell_type": "markdown",
   "id": "c9491706",
   "metadata": {},
   "source": [
    "## 思路"
   ]
  },
  {
   "cell_type": "markdown",
   "id": "4764f03e",
   "metadata": {},
   "source": [
    "这道题目和课堂上讲过的动态规划，打家劫舍那道题是一模一样的，只不过换了一个说法而已。\n",
    "\n",
    "可以假设如果是取k个不相邻数的最大和，则取法只有两种，要么取前k-1个数，或者取前k-2个数加上第k个数。则动态方程为：\n",
    "\n",
    "$f(k) = max\\{f(k-1), k + f(k-2)\\}$\n",
    "\n",
    "有了动态方程，接下来就是套路了：\n",
    "1. 构建动态数组\n",
    "2. 初始化动态数组\n",
    "3. 根据动态方程进行计算，更新数组\n",
    "4. 返回最终结果\n",
    "\n",
    "当然，你也可以使用递归，可以少写一些代码。"
   ]
  },
  {
   "cell_type": "code",
   "execution_count": null,
   "id": "49150b30",
   "metadata": {},
   "outputs": [],
   "source": []
  }
 ],
 "metadata": {
  "kernelspec": {
   "display_name": "Python 3.9.11 64-bit",
   "language": "python",
   "name": "python3"
  },
  "language_info": {
   "codemirror_mode": {
    "name": "ipython",
    "version": 3
   },
   "file_extension": ".py",
   "mimetype": "text/x-python",
   "name": "python",
   "nbconvert_exporter": "python",
   "pygments_lexer": "ipython3",
   "version": "3.9.11"
  },
  "toc": {
   "base_numbering": 1,
   "nav_menu": {},
   "number_sections": true,
   "sideBar": true,
   "skip_h1_title": false,
   "title_cell": "Table of Contents",
   "title_sidebar": "L2编程题收集",
   "toc_cell": false,
   "toc_position": {
    "height": "calc(100% - 180px)",
    "left": "10px",
    "top": "150px",
    "width": "275.2px"
   },
   "toc_section_display": true,
   "toc_window_display": true
  },
  "vscode": {
   "interpreter": {
    "hash": "869334e3b52fcc258486d5d9a91fc334fb8770f92868bc2a1169f8405934f234"
   }
  }
 },
 "nbformat": 4,
 "nbformat_minor": 5
}
